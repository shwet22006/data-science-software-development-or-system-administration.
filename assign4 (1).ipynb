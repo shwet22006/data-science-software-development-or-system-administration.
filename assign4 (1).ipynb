{
 "cells": [
  {
   "cell_type": "code",
   "execution_count": 2,
   "metadata": {},
   "outputs": [
    {
     "name": "stdout",
     "output_type": "stream",
     "text": [
      "File not found !!\n",
      "File not found !!\n",
      "File not found !!\n"
     ]
    },
    {
     "ename": "ZeroDivisionError",
     "evalue": "division by zero",
     "output_type": "error",
     "traceback": [
      "\u001b[1;31m---------------------------------------------------------------------------\u001b[0m",
      "\u001b[1;31mZeroDivisionError\u001b[0m                         Traceback (most recent call last)",
      "Cell \u001b[1;32mIn[2], line 53\u001b[0m\n\u001b[0;32m     51\u001b[0m readfiles(files)\n\u001b[0;32m     52\u001b[0m separate(data)\n\u001b[1;32m---> 53\u001b[0m \u001b[43maverage\u001b[49m\u001b[43m(\u001b[49m\u001b[43m)\u001b[49m\n\u001b[0;32m     54\u001b[0m summary_file()\n",
      "Cell \u001b[1;32mIn[2], line 33\u001b[0m, in \u001b[0;36maverage\u001b[1;34m()\u001b[0m\n\u001b[0;32m     31\u001b[0m \u001b[38;5;66;03m# print(total_rating)\u001b[39;00m\n\u001b[0;32m     32\u001b[0m \u001b[38;5;28;01mglobal\u001b[39;00m avg\n\u001b[1;32m---> 33\u001b[0m avg\u001b[38;5;241m=\u001b[39m(\u001b[43mtotal_rating\u001b[49m\u001b[38;5;241;43m/\u001b[39;49m\u001b[43mtotal_entries\u001b[49m)\n",
      "\u001b[1;31mZeroDivisionError\u001b[0m: division by zero"
     ]
    }
   ],
   "source": [
    "data=[]\n",
    "name=[]\n",
    "new_data=[]\n",
    "rating=[]\n",
    "rest=[]\n",
    "# avg=[]\n",
    "# allrating=[]\n",
    "def readfiles(allfiles):\n",
    "    for i in allfiles:\n",
    "        try:\n",
    "            f=open(i,'r')\n",
    "            data.extend(f.readlines())\n",
    "            return data\n",
    "        except(Exception):\n",
    "            print(\"File not found !!\")\n",
    "\n",
    "def separate(dt):\n",
    "    for i in dt:\n",
    "        rest=i.split(':')\n",
    "        # rating=[]\n",
    "        rating.append(float(rest[1].split('-')[0]))\n",
    "\n",
    "        # rating=(float(i) for i in rating)\n",
    "        # print(rating)\n",
    "    return rating\n",
    "\n",
    "def average():\n",
    "    total_entries=len(data)\n",
    "    # print(total_entries)\n",
    "    total_rating=sum(rating)\n",
    "    # print(total_rating)\n",
    "    global avg\n",
    "    avg=(total_rating/total_entries)\n",
    "    # print(avg_rating)\n",
    "\n",
    "def summary_file():\n",
    "    try:\n",
    "        f=open('summary_file','x')\n",
    "    except(Exception):\n",
    "        print(\"File does exit error\")\n",
    "    f=open('summary_file','w')\n",
    "    content=f'Total feedback entries:{len(data)}\\nAverage rating:{avg}'\n",
    "    f.write(content)\n",
    "    # print(content)\n",
    "    \n",
    "\n",
    "    \n",
    "\n",
    "    \n",
    "files=['feedback1.txt','feedback2.txt','feedback3.txt']\n",
    "readfiles(files)\n",
    "separate(data)\n",
    "average()\n",
    "summary_file()"
   ]
  }
 ],
 "metadata": {
  "kernelspec": {
   "display_name": "Python 3",
   "language": "python",
   "name": "python3"
  },
  "language_info": {
   "codemirror_mode": {
    "name": "ipython",
    "version": 3
   },
   "file_extension": ".py",
   "mimetype": "text/x-python",
   "name": "python",
   "nbconvert_exporter": "python",
   "pygments_lexer": "ipython3",
   "version": "3.12.3"
  }
 },
 "nbformat": 4,
 "nbformat_minor": 2
}
